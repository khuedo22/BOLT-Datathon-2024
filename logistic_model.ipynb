{
 "cells": [
  {
   "cell_type": "code",
   "execution_count": 54,
   "id": "458f6e6e-ff2e-4938-854a-29d0c8ec917f",
   "metadata": {},
   "outputs": [],
   "source": [
    "library(ggplot2)\n",
    "library(dplyr)\n",
    "library(tidyverse)\n",
    "library(pillar)\n",
    "library(repr) \n",
    "library(magrittr)\n",
    "library(rsample)\n",
    "library(leaps)\n",
    "library(broom)\n",
    "# install.packages(\"car\")\n",
    "library(car)\n",
    "# install.packages(\"caret\")\n",
    "library(caret)"
   ]
  },
  {
   "cell_type": "code",
   "execution_count": 55,
   "id": "d2361024-fac5-4af2-a822-416891c471f6",
   "metadata": {},
   "outputs": [
    {
     "name": "stderr",
     "output_type": "stream",
     "text": [
      "\u001b[1mRows: \u001b[22m\u001b[34m100000\u001b[39m \u001b[1mColumns: \u001b[22m\u001b[34m14\u001b[39m\n",
      "\u001b[36m──\u001b[39m \u001b[1mColumn specification\u001b[22m \u001b[36m────────────────────────────────────────────────────────\u001b[39m\n",
      "\u001b[1mDelimiter:\u001b[22m \",\"\n",
      "\u001b[31mchr\u001b[39m (11): card, month_date, trans_time, payment_method, merchant_country, ca...\n",
      "\u001b[32mdbl\u001b[39m  (3): risk_score, trans_value, MCC\n",
      "\n",
      "\u001b[36mℹ\u001b[39m Use `spec()` to retrieve the full column specification for this data.\n",
      "\u001b[36mℹ\u001b[39m Specify the column types or set `show_col_types = FALSE` to quiet this message.\n"
     ]
    },
    {
     "data": {
      "text/html": [
       "<table class=\"dataframe\">\n",
       "<caption>A tibble: 6 × 14</caption>\n",
       "<thead>\n",
       "\t<tr><th scope=col>card</th><th scope=col>month_date</th><th scope=col>trans_time</th><th scope=col>risk_score</th><th scope=col>payment_method</th><th scope=col>trans_value</th><th scope=col>merchant_country</th><th scope=col>card_present</th><th scope=col>chip_usage</th><th scope=col>international_trans</th><th scope=col>acquirer</th><th scope=col>merchant</th><th scope=col>MCC</th><th scope=col>fraud_flagged</th></tr>\n",
       "\t<tr><th scope=col>&lt;chr&gt;</th><th scope=col>&lt;chr&gt;</th><th scope=col>&lt;chr&gt;</th><th scope=col>&lt;dbl&gt;</th><th scope=col>&lt;chr&gt;</th><th scope=col>&lt;dbl&gt;</th><th scope=col>&lt;chr&gt;</th><th scope=col>&lt;chr&gt;</th><th scope=col>&lt;chr&gt;</th><th scope=col>&lt;chr&gt;</th><th scope=col>&lt;chr&gt;</th><th scope=col>&lt;chr&gt;</th><th scope=col>&lt;dbl&gt;</th><th scope=col>&lt;chr&gt;</th></tr>\n",
       "</thead>\n",
       "<tbody>\n",
       "\t<tr><td>card 1</td><td>05-11</td><td>16:22:14</td><td> 362</td><td>Paypass - Contactless</td><td>13.98</td><td>USA</td><td>CP </td><td>Yes</td><td>No</td><td>acquirer 1</td><td>merchant 1</td><td>5812</td><td>No</td></tr>\n",
       "\t<tr><td>card 2</td><td>06-05</td><td>15:16:35</td><td> 602</td><td>Online               </td><td>24.64</td><td>USA</td><td>CNP</td><td>No </td><td>No</td><td>acquirer 2</td><td>merchant 2</td><td>4121</td><td>No</td></tr>\n",
       "\t<tr><td>card 3</td><td>06-05</td><td>11:57:40</td><td> 482</td><td>Unknown              </td><td>15.00</td><td>USA</td><td>CNP</td><td>No </td><td>No</td><td>acquirer 3</td><td>merchant 3</td><td>7211</td><td>No</td></tr>\n",
       "\t<tr><td>card 4</td><td>07-20</td><td>18:26:30</td><td> 947</td><td>Online               </td><td>30.56</td><td>USA</td><td>CNP</td><td>No </td><td>No</td><td>acquirer 1</td><td>merchant 4</td><td>5814</td><td>No</td></tr>\n",
       "\t<tr><td>card 5</td><td>03-03</td><td>19:03:11</td><td>1382</td><td>Magnetic Stripe      </td><td>50.85</td><td>USA</td><td>CP </td><td>No </td><td>No</td><td>acquirer 4</td><td>merchant 1</td><td>5812</td><td>No</td></tr>\n",
       "\t<tr><td>card 6</td><td>07-22</td><td>18:04:28</td><td> 612</td><td>Paypass - Contactless</td><td>75.77</td><td>USA</td><td>CP </td><td>Yes</td><td>No</td><td>acquirer 5</td><td>merchant 1</td><td>5812</td><td>No</td></tr>\n",
       "</tbody>\n",
       "</table>\n"
      ],
      "text/latex": [
       "A tibble: 6 × 14\n",
       "\\begin{tabular}{llllllllllllll}\n",
       " card & month\\_date & trans\\_time & risk\\_score & payment\\_method & trans\\_value & merchant\\_country & card\\_present & chip\\_usage & international\\_trans & acquirer & merchant & MCC & fraud\\_flagged\\\\\n",
       " <chr> & <chr> & <chr> & <dbl> & <chr> & <dbl> & <chr> & <chr> & <chr> & <chr> & <chr> & <chr> & <dbl> & <chr>\\\\\n",
       "\\hline\n",
       "\t card 1 & 05-11 & 16:22:14 &  362 & Paypass - Contactless & 13.98 & USA & CP  & Yes & No & acquirer 1 & merchant 1 & 5812 & No\\\\\n",
       "\t card 2 & 06-05 & 15:16:35 &  602 & Online                & 24.64 & USA & CNP & No  & No & acquirer 2 & merchant 2 & 4121 & No\\\\\n",
       "\t card 3 & 06-05 & 11:57:40 &  482 & Unknown               & 15.00 & USA & CNP & No  & No & acquirer 3 & merchant 3 & 7211 & No\\\\\n",
       "\t card 4 & 07-20 & 18:26:30 &  947 & Online                & 30.56 & USA & CNP & No  & No & acquirer 1 & merchant 4 & 5814 & No\\\\\n",
       "\t card 5 & 03-03 & 19:03:11 & 1382 & Magnetic Stripe       & 50.85 & USA & CP  & No  & No & acquirer 4 & merchant 1 & 5812 & No\\\\\n",
       "\t card 6 & 07-22 & 18:04:28 &  612 & Paypass - Contactless & 75.77 & USA & CP  & Yes & No & acquirer 5 & merchant 1 & 5812 & No\\\\\n",
       "\\end{tabular}\n"
      ],
      "text/markdown": [
       "\n",
       "A tibble: 6 × 14\n",
       "\n",
       "| card &lt;chr&gt; | month_date &lt;chr&gt; | trans_time &lt;chr&gt; | risk_score &lt;dbl&gt; | payment_method &lt;chr&gt; | trans_value &lt;dbl&gt; | merchant_country &lt;chr&gt; | card_present &lt;chr&gt; | chip_usage &lt;chr&gt; | international_trans &lt;chr&gt; | acquirer &lt;chr&gt; | merchant &lt;chr&gt; | MCC &lt;dbl&gt; | fraud_flagged &lt;chr&gt; |\n",
       "|---|---|---|---|---|---|---|---|---|---|---|---|---|---|\n",
       "| card 1 | 05-11 | 16:22:14 |  362 | Paypass - Contactless | 13.98 | USA | CP  | Yes | No | acquirer 1 | merchant 1 | 5812 | No |\n",
       "| card 2 | 06-05 | 15:16:35 |  602 | Online                | 24.64 | USA | CNP | No  | No | acquirer 2 | merchant 2 | 4121 | No |\n",
       "| card 3 | 06-05 | 11:57:40 |  482 | Unknown               | 15.00 | USA | CNP | No  | No | acquirer 3 | merchant 3 | 7211 | No |\n",
       "| card 4 | 07-20 | 18:26:30 |  947 | Online                | 30.56 | USA | CNP | No  | No | acquirer 1 | merchant 4 | 5814 | No |\n",
       "| card 5 | 03-03 | 19:03:11 | 1382 | Magnetic Stripe       | 50.85 | USA | CP  | No  | No | acquirer 4 | merchant 1 | 5812 | No |\n",
       "| card 6 | 07-22 | 18:04:28 |  612 | Paypass - Contactless | 75.77 | USA | CP  | Yes | No | acquirer 5 | merchant 1 | 5812 | No |\n",
       "\n"
      ],
      "text/plain": [
       "  card   month_date trans_time risk_score payment_method        trans_value\n",
       "1 card 1 05-11      16:22:14    362       Paypass - Contactless 13.98      \n",
       "2 card 2 06-05      15:16:35    602       Online                24.64      \n",
       "3 card 3 06-05      11:57:40    482       Unknown               15.00      \n",
       "4 card 4 07-20      18:26:30    947       Online                30.56      \n",
       "5 card 5 03-03      19:03:11   1382       Magnetic Stripe       50.85      \n",
       "6 card 6 07-22      18:04:28    612       Paypass - Contactless 75.77      \n",
       "  merchant_country card_present chip_usage international_trans acquirer  \n",
       "1 USA              CP           Yes        No                  acquirer 1\n",
       "2 USA              CNP          No         No                  acquirer 2\n",
       "3 USA              CNP          No         No                  acquirer 3\n",
       "4 USA              CNP          No         No                  acquirer 1\n",
       "5 USA              CP           No         No                  acquirer 4\n",
       "6 USA              CP           Yes        No                  acquirer 5\n",
       "  merchant   MCC  fraud_flagged\n",
       "1 merchant 1 5812 No           \n",
       "2 merchant 2 4121 No           \n",
       "3 merchant 3 7211 No           \n",
       "4 merchant 4 5814 No           \n",
       "5 merchant 1 5812 No           \n",
       "6 merchant 1 5812 No           "
      ]
     },
     "metadata": {},
     "output_type": "display_data"
    },
    {
     "data": {
      "text/html": [
       "100000"
      ],
      "text/latex": [
       "100000"
      ],
      "text/markdown": [
       "100000"
      ],
      "text/plain": [
       "[1] 100000"
      ]
     },
     "metadata": {},
     "output_type": "display_data"
    }
   ],
   "source": [
    "data_clean <- read_csv(\"clean_BOLT_dataset.csv\")\n",
    "head(data_clean)\n",
    "nrow(data_clean)"
   ]
  },
  {
   "cell_type": "code",
   "execution_count": 56,
   "id": "82b017a3-393e-4b0a-8980-a14f1c696cf9",
   "metadata": {},
   "outputs": [
    {
     "name": "stdout",
     "output_type": "stream",
     "text": [
      " [1] \"Paypass - Contactless\" \"Online\"                \"Unknown\"              \n",
      " [4] \"Magnetic Stripe\"       \"Subscription\"          \"Chip\"                 \n",
      " [7] \"Postal\"                \"PayPass - Wallet\"      \"Phone\"                \n",
      "[10] \"Tap-to-Pay\"            \"Mobile Wallet\"         \"eCommerce\"            \n"
     ]
    }
   ],
   "source": [
    "unique_types <- unique(data_clean$payment_method)\n",
    "\n",
    "# Print the types of payment methods\n",
    "print(unique_types)"
   ]
  },
  {
   "cell_type": "code",
   "execution_count": 57,
   "id": "b62d66d7-edf8-4ad2-aa40-a1bb3c8ac5a5",
   "metadata": {},
   "outputs": [],
   "source": [
    "# turn categorical variables into binary value and remove NA values\n",
    "data2 <- data_clean %>% filter(trans_time != \"na:n:\" ) %>%\n",
    "    na.omit(risk_score) %>%\n",
    "    mutate(chip_usage = if_else(chip_usage == \"Yes\", 1, 0), \n",
    "           international_trans = if_else(international_trans == \"Yes\", 1,0), \n",
    "           card_present = if_else(card_present == \"CP\",1,0), \n",
    "           fraud_flagged = if_else(fraud_flagged == \"Yes\",1,0))"
   ]
  },
  {
   "cell_type": "code",
   "execution_count": 58,
   "id": "af1742bd-c177-43e1-a134-7c8a13b50a22",
   "metadata": {},
   "outputs": [
    {
     "data": {
      "text/html": [
       "<table class=\"dataframe\">\n",
       "<caption>A tibble: 3 × 17</caption>\n",
       "<thead>\n",
       "\t<tr><th scope=col>risk_score</th><th scope=col>trans_value</th><th scope=col>card_present</th><th scope=col>chip_usage</th><th scope=col>international_trans</th><th scope=col>fraud_flagged</th><th scope=col>online</th><th scope=col>contactless</th><th scope=col>tap</th><th scope=col>stripe</th><th scope=col>subscription</th><th scope=col>chip</th><th scope=col>postal</th><th scope=col>paypass_wallet</th><th scope=col>phone</th><th scope=col>mobile_wallet</th><th scope=col>unknown</th></tr>\n",
       "\t<tr><th scope=col>&lt;dbl&gt;</th><th scope=col>&lt;dbl&gt;</th><th scope=col>&lt;dbl&gt;</th><th scope=col>&lt;dbl&gt;</th><th scope=col>&lt;dbl&gt;</th><th scope=col>&lt;dbl&gt;</th><th scope=col>&lt;dbl&gt;</th><th scope=col>&lt;dbl&gt;</th><th scope=col>&lt;dbl&gt;</th><th scope=col>&lt;dbl&gt;</th><th scope=col>&lt;dbl&gt;</th><th scope=col>&lt;dbl&gt;</th><th scope=col>&lt;dbl&gt;</th><th scope=col>&lt;dbl&gt;</th><th scope=col>&lt;dbl&gt;</th><th scope=col>&lt;dbl&gt;</th><th scope=col>&lt;dbl&gt;</th></tr>\n",
       "</thead>\n",
       "<tbody>\n",
       "\t<tr><td>362</td><td>13.98</td><td>1</td><td>1</td><td>0</td><td>0</td><td>0</td><td>1</td><td>0</td><td>0</td><td>0</td><td>0</td><td>0</td><td>0</td><td>0</td><td>0</td><td>0</td></tr>\n",
       "\t<tr><td>602</td><td>24.64</td><td>0</td><td>0</td><td>0</td><td>0</td><td>1</td><td>0</td><td>0</td><td>0</td><td>0</td><td>0</td><td>0</td><td>0</td><td>0</td><td>0</td><td>0</td></tr>\n",
       "\t<tr><td>482</td><td>15.00</td><td>0</td><td>0</td><td>0</td><td>0</td><td>0</td><td>0</td><td>0</td><td>0</td><td>0</td><td>0</td><td>0</td><td>0</td><td>0</td><td>0</td><td>1</td></tr>\n",
       "</tbody>\n",
       "</table>\n"
      ],
      "text/latex": [
       "A tibble: 3 × 17\n",
       "\\begin{tabular}{lllllllllllllllll}\n",
       " risk\\_score & trans\\_value & card\\_present & chip\\_usage & international\\_trans & fraud\\_flagged & online & contactless & tap & stripe & subscription & chip & postal & paypass\\_wallet & phone & mobile\\_wallet & unknown\\\\\n",
       " <dbl> & <dbl> & <dbl> & <dbl> & <dbl> & <dbl> & <dbl> & <dbl> & <dbl> & <dbl> & <dbl> & <dbl> & <dbl> & <dbl> & <dbl> & <dbl> & <dbl>\\\\\n",
       "\\hline\n",
       "\t 362 & 13.98 & 1 & 1 & 0 & 0 & 0 & 1 & 0 & 0 & 0 & 0 & 0 & 0 & 0 & 0 & 0\\\\\n",
       "\t 602 & 24.64 & 0 & 0 & 0 & 0 & 1 & 0 & 0 & 0 & 0 & 0 & 0 & 0 & 0 & 0 & 0\\\\\n",
       "\t 482 & 15.00 & 0 & 0 & 0 & 0 & 0 & 0 & 0 & 0 & 0 & 0 & 0 & 0 & 0 & 0 & 1\\\\\n",
       "\\end{tabular}\n"
      ],
      "text/markdown": [
       "\n",
       "A tibble: 3 × 17\n",
       "\n",
       "| risk_score &lt;dbl&gt; | trans_value &lt;dbl&gt; | card_present &lt;dbl&gt; | chip_usage &lt;dbl&gt; | international_trans &lt;dbl&gt; | fraud_flagged &lt;dbl&gt; | online &lt;dbl&gt; | contactless &lt;dbl&gt; | tap &lt;dbl&gt; | stripe &lt;dbl&gt; | subscription &lt;dbl&gt; | chip &lt;dbl&gt; | postal &lt;dbl&gt; | paypass_wallet &lt;dbl&gt; | phone &lt;dbl&gt; | mobile_wallet &lt;dbl&gt; | unknown &lt;dbl&gt; |\n",
       "|---|---|---|---|---|---|---|---|---|---|---|---|---|---|---|---|---|\n",
       "| 362 | 13.98 | 1 | 1 | 0 | 0 | 0 | 1 | 0 | 0 | 0 | 0 | 0 | 0 | 0 | 0 | 0 |\n",
       "| 602 | 24.64 | 0 | 0 | 0 | 0 | 1 | 0 | 0 | 0 | 0 | 0 | 0 | 0 | 0 | 0 | 0 |\n",
       "| 482 | 15.00 | 0 | 0 | 0 | 0 | 0 | 0 | 0 | 0 | 0 | 0 | 0 | 0 | 0 | 0 | 1 |\n",
       "\n"
      ],
      "text/plain": [
       "  risk_score trans_value card_present chip_usage international_trans\n",
       "1 362        13.98       1            1          0                  \n",
       "2 602        24.64       0            0          0                  \n",
       "3 482        15.00       0            0          0                  \n",
       "  fraud_flagged online contactless tap stripe subscription chip postal\n",
       "1 0             0      1           0   0      0            0    0     \n",
       "2 0             1      0           0   0      0            0    0     \n",
       "3 0             0      0           0   0      0            0    0     \n",
       "  paypass_wallet phone mobile_wallet unknown\n",
       "1 0              0     0             0      \n",
       "2 0              0     0             0      \n",
       "3 0              0     0             1      "
      ]
     },
     "metadata": {},
     "output_type": "display_data"
    }
   ],
   "source": [
    "# replace the original categorical variables for payment method with new dummy variables for each type of payment method.\n",
    "model_data <- data2 %>%\n",
    "                tibble(online = if_else(payment_method == \"Online\", 1, 0),\n",
    "                       contactless = if_else(payment_method == \"Paypass - Contactless\", 1,0),\n",
    "                       tap = if_else(payment_method == \"Tap-to-Pay\", 1, 0),\n",
    "                       stripe = if_else(payment_method == \"Magnetic Stripe\", 1, 0),\n",
    "                       subscription = if_else(payment_method == \"Subscription\", 1, 0),\n",
    "                       chip = if_else(payment_method == \"Chip\", 1, 0),\n",
    "                       postal = if_else(payment_method == \"Postal\", 1, 0),\n",
    "                       paypass_wallet = if_else(payment_method == \"PayPass - Wallet\", 1, 0),\n",
    "                       phone = if_else(payment_method == \"Phone\", 1, 0),\n",
    "                       mobile_wallet = if_else(payment_method == \"Mobile Wallet\", 1, 0),\n",
    "                       #eCommerce = if_else(payment_method == \"eCommerce\", 1, 0),\n",
    "                       unknown = if_else(payment_method == \"Unknown\", 1, 0)\n",
    "                ) %>%\n",
    "#deselect some unused variables \n",
    "                 select(-card, -month_date, -trans_time, -payment_method, -merchant_country, -acquirer, -merchant, -MCC)\n",
    "head(model_data,3)"
   ]
  },
  {
   "cell_type": "code",
   "execution_count": 59,
   "id": "31b91f6c-50d6-4330-a174-0fb36d9d4ae7",
   "metadata": {},
   "outputs": [],
   "source": [
    "set.seed(100) # set seed\n",
    "\n",
    "# Splitting the data into two sets: 70% training and 30% test + validation\n",
    "data_split <- initial_split(model_data, prop = 0.7)\n",
    "data_train <- training(data_split)  # Training set\n",
    "data_test <- testing(data_split)    # Test set"
   ]
  },
  {
   "cell_type": "code",
   "execution_count": 60,
   "id": "3f86d9a4-55c5-4f98-93fd-5990f525d671",
   "metadata": {},
   "outputs": [
    {
     "data": {
      "text/plain": [
       "Subset selection object\n",
       "Call: regsubsets.formula(x = fraud_flagged ~ ., nvmax = 15, data = data_train, \n",
       "    method = \"forward\", )\n",
       "16 Variables  (and intercept)\n",
       "                    Forced in Forced out\n",
       "risk_score              FALSE      FALSE\n",
       "trans_value             FALSE      FALSE\n",
       "card_present            FALSE      FALSE\n",
       "chip_usage              FALSE      FALSE\n",
       "international_trans     FALSE      FALSE\n",
       "online                  FALSE      FALSE\n",
       "contactless             FALSE      FALSE\n",
       "tap                     FALSE      FALSE\n",
       "stripe                  FALSE      FALSE\n",
       "subscription            FALSE      FALSE\n",
       "chip                    FALSE      FALSE\n",
       "postal                  FALSE      FALSE\n",
       "paypass_wallet          FALSE      FALSE\n",
       "phone                   FALSE      FALSE\n",
       "mobile_wallet           FALSE      FALSE\n",
       "unknown                 FALSE      FALSE\n",
       "1 subsets of each size up to 15\n",
       "Selection Algorithm: forward\n",
       "          risk_score trans_value card_present chip_usage international_trans\n",
       "1  ( 1 )  \"*\"        \" \"         \" \"          \" \"        \" \"                \n",
       "2  ( 1 )  \"*\"        \" \"         \" \"          \" \"        \" \"                \n",
       "3  ( 1 )  \"*\"        \" \"         \" \"          \" \"        \"*\"                \n",
       "4  ( 1 )  \"*\"        \"*\"         \" \"          \" \"        \"*\"                \n",
       "5  ( 1 )  \"*\"        \"*\"         \" \"          \" \"        \"*\"                \n",
       "6  ( 1 )  \"*\"        \"*\"         \" \"          \" \"        \"*\"                \n",
       "7  ( 1 )  \"*\"        \"*\"         \" \"          \" \"        \"*\"                \n",
       "8  ( 1 )  \"*\"        \"*\"         \" \"          \" \"        \"*\"                \n",
       "9  ( 1 )  \"*\"        \"*\"         \" \"          \" \"        \"*\"                \n",
       "10  ( 1 ) \"*\"        \"*\"         \"*\"          \" \"        \"*\"                \n",
       "11  ( 1 ) \"*\"        \"*\"         \"*\"          \"*\"        \"*\"                \n",
       "12  ( 1 ) \"*\"        \"*\"         \"*\"          \"*\"        \"*\"                \n",
       "13  ( 1 ) \"*\"        \"*\"         \"*\"          \"*\"        \"*\"                \n",
       "14  ( 1 ) \"*\"        \"*\"         \"*\"          \"*\"        \"*\"                \n",
       "15  ( 1 ) \"*\"        \"*\"         \"*\"          \"*\"        \"*\"                \n",
       "          online contactless tap stripe subscription chip postal paypass_wallet\n",
       "1  ( 1 )  \" \"    \" \"         \" \" \" \"    \" \"          \" \"  \" \"    \" \"           \n",
       "2  ( 1 )  \" \"    \" \"         \" \" \" \"    \"*\"          \" \"  \" \"    \" \"           \n",
       "3  ( 1 )  \" \"    \" \"         \" \" \" \"    \"*\"          \" \"  \" \"    \" \"           \n",
       "4  ( 1 )  \" \"    \" \"         \" \" \" \"    \"*\"          \" \"  \" \"    \" \"           \n",
       "5  ( 1 )  \" \"    \" \"         \" \" \" \"    \"*\"          \" \"  \" \"    \" \"           \n",
       "6  ( 1 )  \" \"    \" \"         \" \" \" \"    \"*\"          \" \"  \"*\"    \" \"           \n",
       "7  ( 1 )  \" \"    \" \"         \" \" \" \"    \"*\"          \" \"  \"*\"    \" \"           \n",
       "8  ( 1 )  \" \"    \"*\"         \" \" \" \"    \"*\"          \" \"  \"*\"    \" \"           \n",
       "9  ( 1 )  \" \"    \"*\"         \"*\" \" \"    \"*\"          \" \"  \"*\"    \" \"           \n",
       "10  ( 1 ) \" \"    \"*\"         \"*\" \" \"    \"*\"          \" \"  \"*\"    \" \"           \n",
       "11  ( 1 ) \" \"    \"*\"         \"*\" \" \"    \"*\"          \" \"  \"*\"    \" \"           \n",
       "12  ( 1 ) \" \"    \"*\"         \"*\" \"*\"    \"*\"          \" \"  \"*\"    \" \"           \n",
       "13  ( 1 ) \" \"    \"*\"         \"*\" \"*\"    \"*\"          \" \"  \"*\"    \" \"           \n",
       "14  ( 1 ) \" \"    \"*\"         \"*\" \"*\"    \"*\"          \"*\"  \"*\"    \" \"           \n",
       "15  ( 1 ) \"*\"    \"*\"         \"*\" \"*\"    \"*\"          \"*\"  \"*\"    \" \"           \n",
       "          phone mobile_wallet unknown\n",
       "1  ( 1 )  \" \"   \" \"           \" \"    \n",
       "2  ( 1 )  \" \"   \" \"           \" \"    \n",
       "3  ( 1 )  \" \"   \" \"           \" \"    \n",
       "4  ( 1 )  \" \"   \" \"           \" \"    \n",
       "5  ( 1 )  \" \"   \" \"           \"*\"    \n",
       "6  ( 1 )  \" \"   \" \"           \"*\"    \n",
       "7  ( 1 )  \"*\"   \" \"           \"*\"    \n",
       "8  ( 1 )  \"*\"   \" \"           \"*\"    \n",
       "9  ( 1 )  \"*\"   \" \"           \"*\"    \n",
       "10  ( 1 ) \"*\"   \" \"           \"*\"    \n",
       "11  ( 1 ) \"*\"   \" \"           \"*\"    \n",
       "12  ( 1 ) \"*\"   \" \"           \"*\"    \n",
       "13  ( 1 ) \"*\"   \"*\"           \"*\"    \n",
       "14  ( 1 ) \"*\"   \"*\"           \"*\"    \n",
       "15  ( 1 ) \"*\"   \"*\"           \"*\"    "
      ]
     },
     "metadata": {},
     "output_type": "display_data"
    }
   ],
   "source": [
    "\n",
    "forward <- regsubsets(\n",
    "  x = fraud_flagged ~ . ,nvmax = 15,\n",
    "  data = data_train,\n",
    "  method = \"forward\",\n",
    ")\n",
    "\n",
    "forward_summary <- summary(forward)\n",
    "forward_summary"
   ]
  },
  {
   "cell_type": "code",
   "execution_count": 61,
   "id": "7172f89e-8fd7-457c-952b-e2cc985e3497",
   "metadata": {},
   "outputs": [
    {
     "data": {
      "text/html": [
       "<table class=\"dataframe\">\n",
       "<caption>A tibble: 15 × 6</caption>\n",
       "<thead>\n",
       "\t<tr><th scope=col>n_input_variables</th><th scope=col>RSQ</th><th scope=col>RSS</th><th scope=col>ADJ.R2</th><th scope=col>Cp</th><th scope=col>BIC</th></tr>\n",
       "\t<tr><th scope=col>&lt;int&gt;</th><th scope=col>&lt;dbl&gt;</th><th scope=col>&lt;dbl&gt;</th><th scope=col>&lt;dbl&gt;</th><th scope=col>&lt;dbl&gt;</th><th scope=col>&lt;dbl&gt;</th></tr>\n",
       "</thead>\n",
       "<tbody>\n",
       "\t<tr><td> 1</td><td>0.01429797</td><td>190.6798</td><td>0.01428345</td><td>23.547408</td><td>-955.4726</td></tr>\n",
       "\t<tr><td> 2</td><td>0.01442789</td><td>190.6546</td><td>0.01439885</td><td>16.596236</td><td>-953.2961</td></tr>\n",
       "\t<tr><td> 3</td><td>0.01456603</td><td>190.6279</td><td>0.01452248</td><td> 9.078851</td><td>-951.6870</td></tr>\n",
       "\t<tr><td> 4</td><td>0.01464228</td><td>190.6132</td><td>0.01458422</td><td> 5.825347</td><td>-945.8150</td></tr>\n",
       "\t<tr><td> 5</td><td>0.01471574</td><td>190.5990</td><td>0.01464317</td><td> 2.763941</td><td>-939.7512</td></tr>\n",
       "\t<tr><td> 6</td><td>0.01475591</td><td>190.5912</td><td>0.01466883</td><td> 1.996822</td><td>-931.3931</td></tr>\n",
       "\t<tr><td> 7</td><td>0.01479183</td><td>190.5842</td><td>0.01469024</td><td> 1.521582</td><td>-922.7431</td></tr>\n",
       "\t<tr><td> 8</td><td>0.01479979</td><td>190.5827</td><td>0.01468369</td><td> 2.973203</td><td>-912.1660</td></tr>\n",
       "\t<tr><td> 9</td><td>0.01480508</td><td>190.5817</td><td>0.01467446</td><td> 4.609129</td><td>-901.4044</td></tr>\n",
       "\t<tr><td>10</td><td>0.01480967</td><td>190.5808</td><td>0.01466453</td><td> 6.292793</td><td>-890.5952</td></tr>\n",
       "\t<tr><td>11</td><td>0.01481222</td><td>190.5803</td><td>0.01465257</td><td> 8.116687</td><td>-879.6456</td></tr>\n",
       "\t<tr><td>12</td><td>0.01482288</td><td>190.5782</td><td>0.01464871</td><td> 9.382800</td><td>-869.2540</td></tr>\n",
       "\t<tr><td>13</td><td>0.01482567</td><td>190.5777</td><td>0.01463699</td><td>11.190251</td><td>-858.3210</td></tr>\n",
       "\t<tr><td>14</td><td>0.01482712</td><td>190.5774</td><td>0.01462393</td><td>13.090211</td><td>-847.2954</td></tr>\n",
       "\t<tr><td>15</td><td>0.01482796</td><td>190.5772</td><td>0.01461024</td><td>15.032835</td><td>-836.2271</td></tr>\n",
       "</tbody>\n",
       "</table>\n"
      ],
      "text/latex": [
       "A tibble: 15 × 6\n",
       "\\begin{tabular}{llllll}\n",
       " n\\_input\\_variables & RSQ & RSS & ADJ.R2 & Cp & BIC\\\\\n",
       " <int> & <dbl> & <dbl> & <dbl> & <dbl> & <dbl>\\\\\n",
       "\\hline\n",
       "\t  1 & 0.01429797 & 190.6798 & 0.01428345 & 23.547408 & -955.4726\\\\\n",
       "\t  2 & 0.01442789 & 190.6546 & 0.01439885 & 16.596236 & -953.2961\\\\\n",
       "\t  3 & 0.01456603 & 190.6279 & 0.01452248 &  9.078851 & -951.6870\\\\\n",
       "\t  4 & 0.01464228 & 190.6132 & 0.01458422 &  5.825347 & -945.8150\\\\\n",
       "\t  5 & 0.01471574 & 190.5990 & 0.01464317 &  2.763941 & -939.7512\\\\\n",
       "\t  6 & 0.01475591 & 190.5912 & 0.01466883 &  1.996822 & -931.3931\\\\\n",
       "\t  7 & 0.01479183 & 190.5842 & 0.01469024 &  1.521582 & -922.7431\\\\\n",
       "\t  8 & 0.01479979 & 190.5827 & 0.01468369 &  2.973203 & -912.1660\\\\\n",
       "\t  9 & 0.01480508 & 190.5817 & 0.01467446 &  4.609129 & -901.4044\\\\\n",
       "\t 10 & 0.01480967 & 190.5808 & 0.01466453 &  6.292793 & -890.5952\\\\\n",
       "\t 11 & 0.01481222 & 190.5803 & 0.01465257 &  8.116687 & -879.6456\\\\\n",
       "\t 12 & 0.01482288 & 190.5782 & 0.01464871 &  9.382800 & -869.2540\\\\\n",
       "\t 13 & 0.01482567 & 190.5777 & 0.01463699 & 11.190251 & -858.3210\\\\\n",
       "\t 14 & 0.01482712 & 190.5774 & 0.01462393 & 13.090211 & -847.2954\\\\\n",
       "\t 15 & 0.01482796 & 190.5772 & 0.01461024 & 15.032835 & -836.2271\\\\\n",
       "\\end{tabular}\n"
      ],
      "text/markdown": [
       "\n",
       "A tibble: 15 × 6\n",
       "\n",
       "| n_input_variables &lt;int&gt; | RSQ &lt;dbl&gt; | RSS &lt;dbl&gt; | ADJ.R2 &lt;dbl&gt; | Cp &lt;dbl&gt; | BIC &lt;dbl&gt; |\n",
       "|---|---|---|---|---|---|\n",
       "|  1 | 0.01429797 | 190.6798 | 0.01428345 | 23.547408 | -955.4726 |\n",
       "|  2 | 0.01442789 | 190.6546 | 0.01439885 | 16.596236 | -953.2961 |\n",
       "|  3 | 0.01456603 | 190.6279 | 0.01452248 |  9.078851 | -951.6870 |\n",
       "|  4 | 0.01464228 | 190.6132 | 0.01458422 |  5.825347 | -945.8150 |\n",
       "|  5 | 0.01471574 | 190.5990 | 0.01464317 |  2.763941 | -939.7512 |\n",
       "|  6 | 0.01475591 | 190.5912 | 0.01466883 |  1.996822 | -931.3931 |\n",
       "|  7 | 0.01479183 | 190.5842 | 0.01469024 |  1.521582 | -922.7431 |\n",
       "|  8 | 0.01479979 | 190.5827 | 0.01468369 |  2.973203 | -912.1660 |\n",
       "|  9 | 0.01480508 | 190.5817 | 0.01467446 |  4.609129 | -901.4044 |\n",
       "| 10 | 0.01480967 | 190.5808 | 0.01466453 |  6.292793 | -890.5952 |\n",
       "| 11 | 0.01481222 | 190.5803 | 0.01465257 |  8.116687 | -879.6456 |\n",
       "| 12 | 0.01482288 | 190.5782 | 0.01464871 |  9.382800 | -869.2540 |\n",
       "| 13 | 0.01482567 | 190.5777 | 0.01463699 | 11.190251 | -858.3210 |\n",
       "| 14 | 0.01482712 | 190.5774 | 0.01462393 | 13.090211 | -847.2954 |\n",
       "| 15 | 0.01482796 | 190.5772 | 0.01461024 | 15.032835 | -836.2271 |\n",
       "\n"
      ],
      "text/plain": [
       "   n_input_variables RSQ        RSS      ADJ.R2     Cp        BIC      \n",
       "1   1                0.01429797 190.6798 0.01428345 23.547408 -955.4726\n",
       "2   2                0.01442789 190.6546 0.01439885 16.596236 -953.2961\n",
       "3   3                0.01456603 190.6279 0.01452248  9.078851 -951.6870\n",
       "4   4                0.01464228 190.6132 0.01458422  5.825347 -945.8150\n",
       "5   5                0.01471574 190.5990 0.01464317  2.763941 -939.7512\n",
       "6   6                0.01475591 190.5912 0.01466883  1.996822 -931.3931\n",
       "7   7                0.01479183 190.5842 0.01469024  1.521582 -922.7431\n",
       "8   8                0.01479979 190.5827 0.01468369  2.973203 -912.1660\n",
       "9   9                0.01480508 190.5817 0.01467446  4.609129 -901.4044\n",
       "10 10                0.01480967 190.5808 0.01466453  6.292793 -890.5952\n",
       "11 11                0.01481222 190.5803 0.01465257  8.116687 -879.6456\n",
       "12 12                0.01482288 190.5782 0.01464871  9.382800 -869.2540\n",
       "13 13                0.01482567 190.5777 0.01463699 11.190251 -858.3210\n",
       "14 14                0.01482712 190.5774 0.01462393 13.090211 -847.2954\n",
       "15 15                0.01482796 190.5772 0.01461024 15.032835 -836.2271"
      ]
     },
     "metadata": {},
     "output_type": "display_data"
    }
   ],
   "source": [
    "#perform forward selection and select the number of variables with the highest adjusted R^2\n",
    "forward_summary_df <- tibble(\n",
    "    n_input_variables = 1:15, \n",
    "    RSQ = forward_summary$rsq,\n",
    "    RSS = forward_summary$rss,\n",
    "    ADJ.R2 = forward_summary$adjr2,\n",
    "    Cp = forward_summary$cp,\n",
    "    BIC = forward_summary$bic,\n",
    ")\n",
    "forward_summary_df"
   ]
  },
  {
   "cell_type": "code",
   "execution_count": 103,
   "id": "8cbcd696-7d52-4299-984a-b5a8dd834f4b",
   "metadata": {},
   "outputs": [
    {
     "data": {
      "text/html": [
       "<style>\n",
       ".list-inline {list-style: none; margin:0; padding: 0}\n",
       ".list-inline>li {display: inline-block}\n",
       ".list-inline>li:not(:last-child)::after {content: \"\\00b7\"; padding: 0 .5ex}\n",
       "</style>\n",
       "<ol class=list-inline><li>'risk_score'</li><li>'trans_value'</li><li>'international_trans'</li><li>'subscription'</li><li>'postal'</li><li>'phone'</li><li>'unknown'</li></ol>\n"
      ],
      "text/latex": [
       "\\begin{enumerate*}\n",
       "\\item 'risk\\_score'\n",
       "\\item 'trans\\_value'\n",
       "\\item 'international\\_trans'\n",
       "\\item 'subscription'\n",
       "\\item 'postal'\n",
       "\\item 'phone'\n",
       "\\item 'unknown'\n",
       "\\end{enumerate*}\n"
      ],
      "text/markdown": [
       "1. 'risk_score'\n",
       "2. 'trans_value'\n",
       "3. 'international_trans'\n",
       "4. 'subscription'\n",
       "5. 'postal'\n",
       "6. 'phone'\n",
       "7. 'unknown'\n",
       "\n",
       "\n"
      ],
      "text/plain": [
       "[1] \"risk_score\"          \"trans_value\"         \"international_trans\"\n",
       "[4] \"subscription\"        \"postal\"              \"phone\"              \n",
       "[7] \"unknown\"            "
      ]
     },
     "metadata": {},
     "output_type": "display_data"
    }
   ],
   "source": [
    "selected_var_1 <- names(coef(forward, 7))[-1] \n",
    "selected_var_1  risk, pay method trans_value country, card present, chip usage, international_trans, "
   ]
  },
  {
   "cell_type": "code",
   "execution_count": 148,
   "id": "520e132f-61a0-4b3b-a267-d417f3ecb512",
   "metadata": {},
   "outputs": [],
   "source": [
    "training <- data_train %>% select(all_of(selected_var_1),fraud_flagged,card_present, chip_usage)\n",
    "testing <- data_test %>% select(all_of(selected_var_1),fraud_flagged, card_present, chip_usage) \n",
    "\n",
    "# training <- data_train %>% select(-trans_value, -international_trans)\n",
    "# testing <- data_test %>% select(-trans_value, -international_trans) "
   ]
  },
  {
   "cell_type": "code",
   "execution_count": 149,
   "id": "9c4c3e08-5dd6-40ac-a7a7-96eeaa8d8113",
   "metadata": {},
   "outputs": [
    {
     "data": {
      "text/plain": [
       "\n",
       "Call:\n",
       "glm(formula = fraud_flagged ~ ., family = binomial, data = training)\n",
       "\n",
       "Coefficients:\n",
       "                      Estimate Std. Error z value Pr(>|z|)    \n",
       "(Intercept)         -7.637e+00  1.902e-01 -40.149  < 2e-16 ***\n",
       "risk_score           1.159e-03  6.136e-05  18.896  < 2e-16 ***\n",
       "trans_value         -2.476e-04  2.726e-04  -0.908  0.36367    \n",
       "international_trans  4.031e-01  1.630e-01   2.473  0.01339 *  \n",
       "subscription         5.195e-01  1.826e-01   2.845  0.00444 ** \n",
       "postal              -1.260e+01  2.928e+02  -0.043  0.96569    \n",
       "phone                9.049e-01  5.216e-01   1.735  0.08277 .  \n",
       "unknown              1.134e+00  4.697e-01   2.414  0.01580 *  \n",
       "card_present        -8.660e-02  4.646e-01  -0.186  0.85212    \n",
       "chip_usage          -4.243e-01  4.898e-01  -0.866  0.38631    \n",
       "---\n",
       "Signif. codes:  0 ‘***’ 0.001 ‘**’ 0.01 ‘*’ 0.05 ‘.’ 0.1 ‘ ’ 1\n",
       "\n",
       "(Dispersion parameter for binomial family taken to be 1)\n",
       "\n",
       "    Null deviance: 2660.3  on 67891  degrees of freedom\n",
       "Residual deviance: 2142.3  on 67882  degrees of freedom\n",
       "AIC: 2162.3\n",
       "\n",
       "Number of Fisher Scoring iterations: 17\n"
      ]
     },
     "metadata": {},
     "output_type": "display_data"
    },
    {
     "data": {
      "text/html": [
       "<style>\n",
       ".dl-inline {width: auto; margin:0; padding: 0}\n",
       ".dl-inline>dt, .dl-inline>dd {float: none; width: auto; display: inline-block}\n",
       ".dl-inline>dt::after {content: \":\\0020\"; padding-right: .5ex}\n",
       ".dl-inline>dt:not(:first-of-type) {padding-left: .5ex}\n",
       "</style><dl class=dl-inline><dt>risk_score</dt><dd>1.31645813268607</dd><dt>trans_value</dt><dd>1.02166502456062</dd><dt>international_trans</dt><dd>1.14652906085401</dd><dt>subscription</dt><dd>1.10519144122671</dd><dt>postal</dt><dd>1.00000009551533</dd><dt>phone</dt><dd>1.02289316108961</dd><dt>unknown</dt><dd>1.03640254669755</dd><dt>card_present</dt><dd>5.84659916419211</dd><dt>chip_usage</dt><dd>5.69304873597143</dd></dl>\n"
      ],
      "text/latex": [
       "\\begin{description*}\n",
       "\\item[risk\\textbackslash{}\\_score] 1.31645813268607\n",
       "\\item[trans\\textbackslash{}\\_value] 1.02166502456062\n",
       "\\item[international\\textbackslash{}\\_trans] 1.14652906085401\n",
       "\\item[subscription] 1.10519144122671\n",
       "\\item[postal] 1.00000009551533\n",
       "\\item[phone] 1.02289316108961\n",
       "\\item[unknown] 1.03640254669755\n",
       "\\item[card\\textbackslash{}\\_present] 5.84659916419211\n",
       "\\item[chip\\textbackslash{}\\_usage] 5.69304873597143\n",
       "\\end{description*}\n"
      ],
      "text/markdown": [
       "risk_score\n",
       ":   1.31645813268607trans_value\n",
       ":   1.02166502456062international_trans\n",
       ":   1.14652906085401subscription\n",
       ":   1.10519144122671postal\n",
       ":   1.00000009551533phone\n",
       ":   1.02289316108961unknown\n",
       ":   1.03640254669755card_present\n",
       ":   5.84659916419211chip_usage\n",
       ":   5.69304873597143\n",
       "\n"
      ],
      "text/plain": [
       "         risk_score         trans_value international_trans        subscription \n",
       "           1.316458            1.021665            1.146529            1.105191 \n",
       "             postal               phone             unknown        card_present \n",
       "           1.000000            1.022893            1.036403            5.846599 \n",
       "         chip_usage \n",
       "           5.693049 "
      ]
     },
     "metadata": {},
     "output_type": "display_data"
    }
   ],
   "source": [
    "model <- glm(\n",
    "        formula = fraud_flagged ~ .,\n",
    "        data = training,\n",
    "        family = binomial)\n",
    "summary(model)\n",
    "\n",
    "#check multicollinearity \n",
    "vif(model)"
   ]
  },
  {
   "cell_type": "code",
   "execution_count": 158,
   "id": "bb4aa6f7-04f4-4dfd-b53b-c8c673763a9f",
   "metadata": {},
   "outputs": [
    {
     "data": {
      "text/html": [
       "<style>\n",
       ".dl-inline {width: auto; margin:0; padding: 0}\n",
       ".dl-inline>dt, .dl-inline>dd {float: none; width: auto; display: inline-block}\n",
       ".dl-inline>dt::after {content: \":\\0020\"; padding-right: .5ex}\n",
       ".dl-inline>dt:not(:first-of-type) {padding-left: .5ex}\n",
       "</style><dl class=dl-inline><dt>1</dt><dd>0</dd><dt>2</dt><dd>0</dd><dt>3</dt><dd>0</dd><dt>4</dt><dd>0</dd><dt>5</dt><dd>0</dd><dt>6</dt><dd>0</dd></dl>\n"
      ],
      "text/latex": [
       "\\begin{description*}\n",
       "\\item[1] 0\n",
       "\\item[2] 0\n",
       "\\item[3] 0\n",
       "\\item[4] 0\n",
       "\\item[5] 0\n",
       "\\item[6] 0\n",
       "\\end{description*}\n"
      ],
      "text/markdown": [
       "1\n",
       ":   02\n",
       ":   03\n",
       ":   04\n",
       ":   05\n",
       ":   06\n",
       ":   0\n",
       "\n"
      ],
      "text/plain": [
       "1 2 3 4 5 6 \n",
       "0 0 0 0 0 0 "
      ]
     },
     "metadata": {},
     "output_type": "display_data"
    }
   ],
   "source": [
    "# Make predictions using the fitted model\n",
    "predicted <- predict(model, newdata = testing, type = \"response\")\n",
    "\n",
    "# Classify predictions based on the threshold\n",
    "classified_predictions <- ifelse(predicted <= 0.00275, 0, 1)\n",
    "head(classified_predictions)"
   ]
  },
  {
   "cell_type": "code",
   "execution_count": 162,
   "id": "adc873a0-e0c1-463a-8b71-05f50b64cddd",
   "metadata": {},
   "outputs": [
    {
     "name": "stdout",
     "output_type": "stream",
     "text": [
      "[1] 0.8512561\n"
     ]
    }
   ],
   "source": [
    "# Classify predictions based on the threshold\n",
    "classified_predictions <- if_else(predicted <= 0.00275, 0, 1)\n",
    "\n",
    "# Compare classified predictions with true values\n",
    "accuracy <- mean(classified_predictions == testing$fraud_flagged)\n",
    "\n",
    "# Print accuracy\n",
    "print(accuracy)"
   ]
  },
  {
   "cell_type": "code",
   "execution_count": 163,
   "id": "028cc9de-ef00-425d-a21c-48cbd2209400",
   "metadata": {},
   "outputs": [
    {
     "data": {
      "text/html": [
       "0.148743856754992"
      ],
      "text/latex": [
       "0.148743856754992"
      ],
      "text/markdown": [
       "0.148743856754992"
      ],
      "text/plain": [
       "[1] 0.1487439"
      ]
     },
     "metadata": {},
     "output_type": "display_data"
    }
   ],
   "source": [
    "\n",
    "misclassification_rate <- function(y, predicted){\n",
    "    y_hat <- if_else(predicted <= 0.00275, 0, 1)\n",
    "    error_rate <- mean(abs(y - y_hat))\n",
    "    return(error_rate)\n",
    "}\n",
    "\n",
    "error_rate_train <- \n",
    "    misclassification_rate(\n",
    "        testing$fraud_flagged,\n",
    "        predicted)\n",
    "\n",
    "error_rate_train"
   ]
  },
  {
   "cell_type": "code",
   "execution_count": 164,
   "id": "873d8ba8-9c22-4357-9987-98aa81d20a97",
   "metadata": {},
   "outputs": [
    {
     "data": {
      "text/plain": [
       "Confusion Matrix and Statistics\n",
       "\n",
       "          Reference\n",
       "Prediction     0     1\n",
       "         0 24720    21\n",
       "         1  4307    49\n",
       "                                          \n",
       "               Accuracy : 0.8513          \n",
       "                 95% CI : (0.8471, 0.8553)\n",
       "    No Information Rate : 0.9976          \n",
       "    P-Value [Acc > NIR] : 1               \n",
       "                                          \n",
       "                  Kappa : 0.0175          \n",
       "                                          \n",
       " Mcnemar's Test P-Value : <2e-16          \n",
       "                                          \n",
       "            Sensitivity : 0.700000        \n",
       "            Specificity : 0.851621        \n",
       "         Pos Pred Value : 0.011249        \n",
       "         Neg Pred Value : 0.999151        \n",
       "             Prevalence : 0.002406        \n",
       "         Detection Rate : 0.001684        \n",
       "   Detection Prevalence : 0.149706        \n",
       "      Balanced Accuracy : 0.775810        \n",
       "                                          \n",
       "       'Positive' Class : 1               \n",
       "                                          "
      ]
     },
     "metadata": {},
     "output_type": "display_data"
    }
   ],
   "source": [
    "confusion_matrix <- \n",
    "    confusionMatrix(\n",
    "    data = as.factor(classified_predictions),\n",
    "    reference = as.factor(testing$fraud_flagged),\n",
    "    positive = '1'\n",
    ")\n",
    "confusion_matrix"
   ]
  },
  {
   "cell_type": "markdown",
   "id": "4d574e9a-ae94-433f-a177-d79e90258e7c",
   "metadata": {},
   "source": [
    "# USA "
   ]
  },
  {
   "cell_type": "code",
   "execution_count": 241,
   "id": "27b551d9-5aa9-4f1e-8050-d385f843130c",
   "metadata": {},
   "outputs": [
    {
     "data": {
      "text/html": [
       "<table class=\"dataframe\">\n",
       "<caption>A tibble: 6 × 14</caption>\n",
       "<thead>\n",
       "\t<tr><th scope=col>card</th><th scope=col>month_date</th><th scope=col>trans_time</th><th scope=col>risk_score</th><th scope=col>payment_method</th><th scope=col>trans_value</th><th scope=col>merchant_country</th><th scope=col>card_present</th><th scope=col>chip_usage</th><th scope=col>international_trans</th><th scope=col>acquirer</th><th scope=col>merchant</th><th scope=col>MCC</th><th scope=col>fraud_flagged</th></tr>\n",
       "\t<tr><th scope=col>&lt;chr&gt;</th><th scope=col>&lt;chr&gt;</th><th scope=col>&lt;chr&gt;</th><th scope=col>&lt;dbl&gt;</th><th scope=col>&lt;chr&gt;</th><th scope=col>&lt;dbl&gt;</th><th scope=col>&lt;chr&gt;</th><th scope=col>&lt;dbl&gt;</th><th scope=col>&lt;dbl&gt;</th><th scope=col>&lt;dbl&gt;</th><th scope=col>&lt;chr&gt;</th><th scope=col>&lt;chr&gt;</th><th scope=col>&lt;dbl&gt;</th><th scope=col>&lt;dbl&gt;</th></tr>\n",
       "</thead>\n",
       "<tbody>\n",
       "\t<tr><td>card 1</td><td>05-11</td><td>16:22:14</td><td> 362</td><td>Paypass - Contactless</td><td>13.98</td><td>USA</td><td>1</td><td>1</td><td>0</td><td>acquirer 1</td><td>merchant 1</td><td>5812</td><td>0</td></tr>\n",
       "\t<tr><td>card 2</td><td>06-05</td><td>15:16:35</td><td> 602</td><td>Online               </td><td>24.64</td><td>USA</td><td>0</td><td>0</td><td>0</td><td>acquirer 2</td><td>merchant 2</td><td>4121</td><td>0</td></tr>\n",
       "\t<tr><td>card 3</td><td>06-05</td><td>11:57:40</td><td> 482</td><td>Unknown              </td><td>15.00</td><td>USA</td><td>0</td><td>0</td><td>0</td><td>acquirer 3</td><td>merchant 3</td><td>7211</td><td>0</td></tr>\n",
       "\t<tr><td>card 4</td><td>07-20</td><td>18:26:30</td><td> 947</td><td>Online               </td><td>30.56</td><td>USA</td><td>0</td><td>0</td><td>0</td><td>acquirer 1</td><td>merchant 4</td><td>5814</td><td>0</td></tr>\n",
       "\t<tr><td>card 5</td><td>03-03</td><td>19:03:11</td><td>1382</td><td>Magnetic Stripe      </td><td>50.85</td><td>USA</td><td>1</td><td>0</td><td>0</td><td>acquirer 4</td><td>merchant 1</td><td>5812</td><td>0</td></tr>\n",
       "\t<tr><td>card 6</td><td>07-22</td><td>18:04:28</td><td> 612</td><td>Paypass - Contactless</td><td>75.77</td><td>USA</td><td>1</td><td>1</td><td>0</td><td>acquirer 5</td><td>merchant 1</td><td>5812</td><td>0</td></tr>\n",
       "</tbody>\n",
       "</table>\n"
      ],
      "text/latex": [
       "A tibble: 6 × 14\n",
       "\\begin{tabular}{llllllllllllll}\n",
       " card & month\\_date & trans\\_time & risk\\_score & payment\\_method & trans\\_value & merchant\\_country & card\\_present & chip\\_usage & international\\_trans & acquirer & merchant & MCC & fraud\\_flagged\\\\\n",
       " <chr> & <chr> & <chr> & <dbl> & <chr> & <dbl> & <chr> & <dbl> & <dbl> & <dbl> & <chr> & <chr> & <dbl> & <dbl>\\\\\n",
       "\\hline\n",
       "\t card 1 & 05-11 & 16:22:14 &  362 & Paypass - Contactless & 13.98 & USA & 1 & 1 & 0 & acquirer 1 & merchant 1 & 5812 & 0\\\\\n",
       "\t card 2 & 06-05 & 15:16:35 &  602 & Online                & 24.64 & USA & 0 & 0 & 0 & acquirer 2 & merchant 2 & 4121 & 0\\\\\n",
       "\t card 3 & 06-05 & 11:57:40 &  482 & Unknown               & 15.00 & USA & 0 & 0 & 0 & acquirer 3 & merchant 3 & 7211 & 0\\\\\n",
       "\t card 4 & 07-20 & 18:26:30 &  947 & Online                & 30.56 & USA & 0 & 0 & 0 & acquirer 1 & merchant 4 & 5814 & 0\\\\\n",
       "\t card 5 & 03-03 & 19:03:11 & 1382 & Magnetic Stripe       & 50.85 & USA & 1 & 0 & 0 & acquirer 4 & merchant 1 & 5812 & 0\\\\\n",
       "\t card 6 & 07-22 & 18:04:28 &  612 & Paypass - Contactless & 75.77 & USA & 1 & 1 & 0 & acquirer 5 & merchant 1 & 5812 & 0\\\\\n",
       "\\end{tabular}\n"
      ],
      "text/markdown": [
       "\n",
       "A tibble: 6 × 14\n",
       "\n",
       "| card &lt;chr&gt; | month_date &lt;chr&gt; | trans_time &lt;chr&gt; | risk_score &lt;dbl&gt; | payment_method &lt;chr&gt; | trans_value &lt;dbl&gt; | merchant_country &lt;chr&gt; | card_present &lt;dbl&gt; | chip_usage &lt;dbl&gt; | international_trans &lt;dbl&gt; | acquirer &lt;chr&gt; | merchant &lt;chr&gt; | MCC &lt;dbl&gt; | fraud_flagged &lt;dbl&gt; |\n",
       "|---|---|---|---|---|---|---|---|---|---|---|---|---|---|\n",
       "| card 1 | 05-11 | 16:22:14 |  362 | Paypass - Contactless | 13.98 | USA | 1 | 1 | 0 | acquirer 1 | merchant 1 | 5812 | 0 |\n",
       "| card 2 | 06-05 | 15:16:35 |  602 | Online                | 24.64 | USA | 0 | 0 | 0 | acquirer 2 | merchant 2 | 4121 | 0 |\n",
       "| card 3 | 06-05 | 11:57:40 |  482 | Unknown               | 15.00 | USA | 0 | 0 | 0 | acquirer 3 | merchant 3 | 7211 | 0 |\n",
       "| card 4 | 07-20 | 18:26:30 |  947 | Online                | 30.56 | USA | 0 | 0 | 0 | acquirer 1 | merchant 4 | 5814 | 0 |\n",
       "| card 5 | 03-03 | 19:03:11 | 1382 | Magnetic Stripe       | 50.85 | USA | 1 | 0 | 0 | acquirer 4 | merchant 1 | 5812 | 0 |\n",
       "| card 6 | 07-22 | 18:04:28 |  612 | Paypass - Contactless | 75.77 | USA | 1 | 1 | 0 | acquirer 5 | merchant 1 | 5812 | 0 |\n",
       "\n"
      ],
      "text/plain": [
       "  card   month_date trans_time risk_score payment_method        trans_value\n",
       "1 card 1 05-11      16:22:14    362       Paypass - Contactless 13.98      \n",
       "2 card 2 06-05      15:16:35    602       Online                24.64      \n",
       "3 card 3 06-05      11:57:40    482       Unknown               15.00      \n",
       "4 card 4 07-20      18:26:30    947       Online                30.56      \n",
       "5 card 5 03-03      19:03:11   1382       Magnetic Stripe       50.85      \n",
       "6 card 6 07-22      18:04:28    612       Paypass - Contactless 75.77      \n",
       "  merchant_country card_present chip_usage international_trans acquirer  \n",
       "1 USA              1            1          0                   acquirer 1\n",
       "2 USA              0            0          0                   acquirer 2\n",
       "3 USA              0            0          0                   acquirer 3\n",
       "4 USA              0            0          0                   acquirer 1\n",
       "5 USA              1            0          0                   acquirer 4\n",
       "6 USA              1            1          0                   acquirer 5\n",
       "  merchant   MCC  fraud_flagged\n",
       "1 merchant 1 5812 0            \n",
       "2 merchant 2 4121 0            \n",
       "3 merchant 3 7211 0            \n",
       "4 merchant 4 5814 0            \n",
       "5 merchant 1 5812 0            \n",
       "6 merchant 1 5812 0            "
      ]
     },
     "metadata": {},
     "output_type": "display_data"
    }
   ],
   "source": [
    "# turn categorical variables into binary value and remove NA values\n",
    "data3 <- data_clean %>% filter(trans_time != \"na:n:\" ) %>%\n",
    "    na.omit(risk_score) %>%\n",
    "    mutate(chip_usage = if_else(chip_usage == \"Yes\", 1, 0), \n",
    "           international_trans = if_else(international_trans == \"Yes\", 1,0), \n",
    "           card_present = if_else(card_present == \"CP\",1,0), \n",
    "           fraud_flagged = if_else(fraud_flagged == \"Yes\",1,0)) %>%\n",
    "    filter(merchant_country == \"USA\")\n",
    "head(data3)"
   ]
  },
  {
   "cell_type": "code",
   "execution_count": 242,
   "id": "75a23621-ebff-4485-844b-75c8b6e6360b",
   "metadata": {},
   "outputs": [
    {
     "data": {
      "text/html": [
       "<table class=\"dataframe\">\n",
       "<caption>A tibble: 3 × 17</caption>\n",
       "<thead>\n",
       "\t<tr><th scope=col>risk_score</th><th scope=col>trans_value</th><th scope=col>card_present</th><th scope=col>chip_usage</th><th scope=col>international_trans</th><th scope=col>fraud_flagged</th><th scope=col>online</th><th scope=col>contactless</th><th scope=col>tap</th><th scope=col>stripe</th><th scope=col>subscription</th><th scope=col>chip</th><th scope=col>postal</th><th scope=col>paypass_wallet</th><th scope=col>phone</th><th scope=col>mobile_wallet</th><th scope=col>unknown</th></tr>\n",
       "\t<tr><th scope=col>&lt;dbl&gt;</th><th scope=col>&lt;dbl&gt;</th><th scope=col>&lt;dbl&gt;</th><th scope=col>&lt;dbl&gt;</th><th scope=col>&lt;dbl&gt;</th><th scope=col>&lt;dbl&gt;</th><th scope=col>&lt;dbl&gt;</th><th scope=col>&lt;dbl&gt;</th><th scope=col>&lt;dbl&gt;</th><th scope=col>&lt;dbl&gt;</th><th scope=col>&lt;dbl&gt;</th><th scope=col>&lt;dbl&gt;</th><th scope=col>&lt;dbl&gt;</th><th scope=col>&lt;dbl&gt;</th><th scope=col>&lt;dbl&gt;</th><th scope=col>&lt;dbl&gt;</th><th scope=col>&lt;dbl&gt;</th></tr>\n",
       "</thead>\n",
       "<tbody>\n",
       "\t<tr><td>362</td><td>13.98</td><td>1</td><td>1</td><td>0</td><td>0</td><td>0</td><td>1</td><td>0</td><td>0</td><td>0</td><td>0</td><td>0</td><td>0</td><td>0</td><td>0</td><td>0</td></tr>\n",
       "\t<tr><td>602</td><td>24.64</td><td>0</td><td>0</td><td>0</td><td>0</td><td>1</td><td>0</td><td>0</td><td>0</td><td>0</td><td>0</td><td>0</td><td>0</td><td>0</td><td>0</td><td>0</td></tr>\n",
       "\t<tr><td>482</td><td>15.00</td><td>0</td><td>0</td><td>0</td><td>0</td><td>0</td><td>0</td><td>0</td><td>0</td><td>0</td><td>0</td><td>0</td><td>0</td><td>0</td><td>0</td><td>1</td></tr>\n",
       "</tbody>\n",
       "</table>\n"
      ],
      "text/latex": [
       "A tibble: 3 × 17\n",
       "\\begin{tabular}{lllllllllllllllll}\n",
       " risk\\_score & trans\\_value & card\\_present & chip\\_usage & international\\_trans & fraud\\_flagged & online & contactless & tap & stripe & subscription & chip & postal & paypass\\_wallet & phone & mobile\\_wallet & unknown\\\\\n",
       " <dbl> & <dbl> & <dbl> & <dbl> & <dbl> & <dbl> & <dbl> & <dbl> & <dbl> & <dbl> & <dbl> & <dbl> & <dbl> & <dbl> & <dbl> & <dbl> & <dbl>\\\\\n",
       "\\hline\n",
       "\t 362 & 13.98 & 1 & 1 & 0 & 0 & 0 & 1 & 0 & 0 & 0 & 0 & 0 & 0 & 0 & 0 & 0\\\\\n",
       "\t 602 & 24.64 & 0 & 0 & 0 & 0 & 1 & 0 & 0 & 0 & 0 & 0 & 0 & 0 & 0 & 0 & 0\\\\\n",
       "\t 482 & 15.00 & 0 & 0 & 0 & 0 & 0 & 0 & 0 & 0 & 0 & 0 & 0 & 0 & 0 & 0 & 1\\\\\n",
       "\\end{tabular}\n"
      ],
      "text/markdown": [
       "\n",
       "A tibble: 3 × 17\n",
       "\n",
       "| risk_score &lt;dbl&gt; | trans_value &lt;dbl&gt; | card_present &lt;dbl&gt; | chip_usage &lt;dbl&gt; | international_trans &lt;dbl&gt; | fraud_flagged &lt;dbl&gt; | online &lt;dbl&gt; | contactless &lt;dbl&gt; | tap &lt;dbl&gt; | stripe &lt;dbl&gt; | subscription &lt;dbl&gt; | chip &lt;dbl&gt; | postal &lt;dbl&gt; | paypass_wallet &lt;dbl&gt; | phone &lt;dbl&gt; | mobile_wallet &lt;dbl&gt; | unknown &lt;dbl&gt; |\n",
       "|---|---|---|---|---|---|---|---|---|---|---|---|---|---|---|---|---|\n",
       "| 362 | 13.98 | 1 | 1 | 0 | 0 | 0 | 1 | 0 | 0 | 0 | 0 | 0 | 0 | 0 | 0 | 0 |\n",
       "| 602 | 24.64 | 0 | 0 | 0 | 0 | 1 | 0 | 0 | 0 | 0 | 0 | 0 | 0 | 0 | 0 | 0 |\n",
       "| 482 | 15.00 | 0 | 0 | 0 | 0 | 0 | 0 | 0 | 0 | 0 | 0 | 0 | 0 | 0 | 0 | 1 |\n",
       "\n"
      ],
      "text/plain": [
       "  risk_score trans_value card_present chip_usage international_trans\n",
       "1 362        13.98       1            1          0                  \n",
       "2 602        24.64       0            0          0                  \n",
       "3 482        15.00       0            0          0                  \n",
       "  fraud_flagged online contactless tap stripe subscription chip postal\n",
       "1 0             0      1           0   0      0            0    0     \n",
       "2 0             1      0           0   0      0            0    0     \n",
       "3 0             0      0           0   0      0            0    0     \n",
       "  paypass_wallet phone mobile_wallet unknown\n",
       "1 0              0     0             0      \n",
       "2 0              0     0             0      \n",
       "3 0              0     0             1      "
      ]
     },
     "metadata": {},
     "output_type": "display_data"
    }
   ],
   "source": [
    "# replace the original categorical variables for payment method with new dummy variables for each type of payment method.\n",
    "model_data2 <- data3 %>%\n",
    "                tibble(online = if_else(payment_method == \"Online\", 1, 0),\n",
    "                       contactless = if_else(payment_method == \"Paypass - Contactless\", 1,0),\n",
    "                       tap = if_else(payment_method == \"Tap-to-Pay\", 1, 0),\n",
    "                       stripe = if_else(payment_method == \"Magnetic Stripe\", 1, 0),\n",
    "                       subscription = if_else(payment_method == \"Subscription\", 1, 0),\n",
    "                       chip = if_else(payment_method == \"Chip\", 1, 0),\n",
    "                       postal = if_else(payment_method == \"Postal\", 1, 0),\n",
    "                       paypass_wallet = if_else(payment_method == \"PayPass - Wallet\", 1, 0),\n",
    "                       phone = if_else(payment_method == \"Phone\", 1, 0),\n",
    "                       mobile_wallet = if_else(payment_method == \"Mobile Wallet\", 1, 0),\n",
    "                       #eCommerce = if_else(payment_method == \"eCommerce\", 1, 0),\n",
    "                       unknown = if_else(payment_method == \"Unknown\", 1, 0)\n",
    "                ) %>%\n",
    "#deselect some unused variables \n",
    "                 select(-card, -month_date, -trans_time, -payment_method, -merchant_country, -acquirer, -merchant, -MCC)\n",
    "head(model_data2,3)"
   ]
  },
  {
   "cell_type": "code",
   "execution_count": 243,
   "id": "72c112c4-cba1-475c-bab9-603fc5b95bb3",
   "metadata": {},
   "outputs": [],
   "source": [
    "set.seed(101) # set seed\n",
    "\n",
    "# Splitting the data into two sets: 70% training and 30% test + validation\n",
    "data_split2 <- initial_split(model_data2, prop = 0.7)\n",
    "data_train2 <- training(data_split2)  # Training set\n",
    "data_test2 <- testing(data_split2)    # Test set"
   ]
  },
  {
   "cell_type": "code",
   "execution_count": 244,
   "id": "6809e85a-743d-4a65-afdd-535161a5796a",
   "metadata": {},
   "outputs": [
    {
     "name": "stderr",
     "output_type": "stream",
     "text": [
      "Warning message in leaps.setup(x, y, wt = wt, nbest = nbest, nvmax = nvmax, force.in = force.in, :\n",
      "“1  linear dependencies found”\n"
     ]
    },
    {
     "name": "stdout",
     "output_type": "stream",
     "text": [
      "Reordering variables and trying again:\n"
     ]
    },
    {
     "name": "stderr",
     "output_type": "stream",
     "text": [
      "Warning message in rval$lopt[] <- rval$vorder[rval$lopt]:\n",
      "“number of items to replace is not a multiple of replacement length”\n"
     ]
    },
    {
     "data": {
      "text/plain": [
       "Subset selection object\n",
       "Call: regsubsets.formula(x = fraud_flagged ~ ., nvmax = 15, data = data_train2, \n",
       "    method = \"forward\", )\n",
       "16 Variables  (and intercept)\n",
       "                    Forced in Forced out\n",
       "risk_score              FALSE      FALSE\n",
       "trans_value             FALSE      FALSE\n",
       "card_present            FALSE      FALSE\n",
       "chip_usage              FALSE      FALSE\n",
       "online                  FALSE      FALSE\n",
       "contactless             FALSE      FALSE\n",
       "tap                     FALSE      FALSE\n",
       "stripe                  FALSE      FALSE\n",
       "subscription            FALSE      FALSE\n",
       "chip                    FALSE      FALSE\n",
       "postal                  FALSE      FALSE\n",
       "paypass_wallet          FALSE      FALSE\n",
       "phone                   FALSE      FALSE\n",
       "mobile_wallet           FALSE      FALSE\n",
       "unknown                 FALSE      FALSE\n",
       "international_trans     FALSE      FALSE\n",
       "1 subsets of each size up to 15\n",
       "Selection Algorithm: forward\n",
       "          risk_score trans_value card_present chip_usage international_trans\n",
       "1  ( 1 )  \"*\"        \" \"         \" \"          \" \"        \" \"                \n",
       "2  ( 1 )  \"*\"        \" \"         \" \"          \" \"        \" \"                \n",
       "3  ( 1 )  \"*\"        \" \"         \" \"          \" \"        \" \"                \n",
       "4  ( 1 )  \"*\"        \" \"         \" \"          \" \"        \" \"                \n",
       "5  ( 1 )  \"*\"        \" \"         \" \"          \" \"        \" \"                \n",
       "6  ( 1 )  \"*\"        \"*\"         \" \"          \" \"        \" \"                \n",
       "7  ( 1 )  \"*\"        \"*\"         \" \"          \" \"        \" \"                \n",
       "8  ( 1 )  \"*\"        \"*\"         \" \"          \" \"        \" \"                \n",
       "9  ( 1 )  \"*\"        \"*\"         \" \"          \" \"        \" \"                \n",
       "10  ( 1 ) \"*\"        \"*\"         \" \"          \" \"        \" \"                \n",
       "11  ( 1 ) \"*\"        \"*\"         \" \"          \" \"        \" \"                \n",
       "12  ( 1 ) \"*\"        \"*\"         \" \"          \" \"        \" \"                \n",
       "13  ( 1 ) \"*\"        \"*\"         \" \"          \"*\"        \" \"                \n",
       "14  ( 1 ) \"*\"        \"*\"         \" \"          \"*\"        \" \"                \n",
       "15  ( 1 ) \"*\"        \"*\"         \"*\"          \"*\"        \" \"                \n",
       "          online contactless tap stripe subscription chip postal paypass_wallet\n",
       "1  ( 1 )  \" \"    \" \"         \" \" \" \"    \" \"          \" \"  \" \"    \" \"           \n",
       "2  ( 1 )  \" \"    \" \"         \" \" \" \"    \"*\"          \" \"  \" \"    \" \"           \n",
       "3  ( 1 )  \" \"    \" \"         \" \" \" \"    \"*\"          \" \"  \" \"    \" \"           \n",
       "4  ( 1 )  \" \"    \" \"         \" \" \"*\"    \"*\"          \" \"  \" \"    \" \"           \n",
       "5  ( 1 )  \" \"    \" \"         \" \" \"*\"    \"*\"          \" \"  \"*\"    \" \"           \n",
       "6  ( 1 )  \" \"    \" \"         \" \" \"*\"    \"*\"          \" \"  \"*\"    \" \"           \n",
       "7  ( 1 )  \" \"    \" \"         \" \" \"*\"    \"*\"          \" \"  \"*\"    \" \"           \n",
       "8  ( 1 )  \" \"    \" \"         \"*\" \"*\"    \"*\"          \" \"  \"*\"    \" \"           \n",
       "9  ( 1 )  \" \"    \" \"         \"*\" \"*\"    \"*\"          \" \"  \"*\"    \"*\"           \n",
       "10  ( 1 ) \" \"    \" \"         \"*\" \"*\"    \"*\"          \" \"  \"*\"    \"*\"           \n",
       "11  ( 1 ) \" \"    \" \"         \"*\" \"*\"    \"*\"          \"*\"  \"*\"    \"*\"           \n",
       "12  ( 1 ) \"*\"    \" \"         \"*\" \"*\"    \"*\"          \"*\"  \"*\"    \"*\"           \n",
       "13  ( 1 ) \"*\"    \" \"         \"*\" \"*\"    \"*\"          \"*\"  \"*\"    \"*\"           \n",
       "14  ( 1 ) \"*\"    \"*\"         \"*\" \"*\"    \"*\"          \"*\"  \"*\"    \"*\"           \n",
       "15  ( 1 ) \"*\"    \"*\"         \"*\" \"*\"    \"*\"          \"*\"  \"*\"    \"*\"           \n",
       "          phone mobile_wallet unknown\n",
       "1  ( 1 )  \" \"   \" \"           \" \"    \n",
       "2  ( 1 )  \" \"   \" \"           \" \"    \n",
       "3  ( 1 )  \" \"   \" \"           \"*\"    \n",
       "4  ( 1 )  \" \"   \" \"           \"*\"    \n",
       "5  ( 1 )  \" \"   \" \"           \"*\"    \n",
       "6  ( 1 )  \" \"   \" \"           \"*\"    \n",
       "7  ( 1 )  \"*\"   \" \"           \"*\"    \n",
       "8  ( 1 )  \"*\"   \" \"           \"*\"    \n",
       "9  ( 1 )  \"*\"   \" \"           \"*\"    \n",
       "10  ( 1 ) \"*\"   \"*\"           \"*\"    \n",
       "11  ( 1 ) \"*\"   \"*\"           \"*\"    \n",
       "12  ( 1 ) \"*\"   \"*\"           \"*\"    \n",
       "13  ( 1 ) \"*\"   \"*\"           \"*\"    \n",
       "14  ( 1 ) \"*\"   \"*\"           \"*\"    \n",
       "15  ( 1 ) \"*\"   \"*\"           \"*\"    "
      ]
     },
     "metadata": {},
     "output_type": "display_data"
    }
   ],
   "source": [
    "forward2 <- regsubsets(\n",
    "  x = fraud_flagged ~ . ,nvmax = 15,\n",
    "  data = data_train2,\n",
    "  method = \"forward\",\n",
    ")\n",
    "\n",
    "forward_summary2 <- summary(forward2)\n",
    "forward_summary2"
   ]
  },
  {
   "cell_type": "code",
   "execution_count": 245,
   "id": "56a7b896-8bb9-4762-8247-8ff7f7798474",
   "metadata": {},
   "outputs": [
    {
     "data": {
      "text/html": [
       "<table class=\"dataframe\">\n",
       "<caption>A tibble: 15 × 6</caption>\n",
       "<thead>\n",
       "\t<tr><th scope=col>n_input_variables</th><th scope=col>RSQ</th><th scope=col>RSS</th><th scope=col>ADJ.R2</th><th scope=col>Cp</th><th scope=col>BIC</th></tr>\n",
       "\t<tr><th scope=col>&lt;int&gt;</th><th scope=col>&lt;dbl&gt;</th><th scope=col>&lt;dbl&gt;</th><th scope=col>&lt;dbl&gt;</th><th scope=col>&lt;dbl&gt;</th><th scope=col>&lt;dbl&gt;</th></tr>\n",
       "</thead>\n",
       "<tbody>\n",
       "\t<tr><td> 1</td><td>0.01021962</td><td>117.5429</td><td>0.01020260</td><td>13.118979767</td><td>-575.5914</td></tr>\n",
       "\t<tr><td> 2</td><td>0.01038259</td><td>117.5236</td><td>0.01034857</td><td> 5.539408691</td><td>-574.1992</td></tr>\n",
       "\t<tr><td> 3</td><td>0.01051090</td><td>117.5083</td><td>0.01045986</td><td>-0.002384294</td><td>-570.7704</td></tr>\n",
       "\t<tr><td> 4</td><td>0.01055905</td><td>117.5026</td><td>0.01049100</td><td>-0.832538653</td><td>-562.6299</td></tr>\n",
       "\t<tr><td> 5</td><td>0.01059380</td><td>117.4985</td><td>0.01050875</td><td>-0.875414164</td><td>-553.7020</td></tr>\n",
       "\t<tr><td> 6</td><td>0.01061535</td><td>117.4959</td><td>0.01051328</td><td>-0.141819010</td><td>-543.9976</td></tr>\n",
       "\t<tr><td> 7</td><td>0.01062747</td><td>117.4945</td><td>0.01050839</td><td> 1.145724397</td><td>-533.7391</td></tr>\n",
       "\t<tr><td> 8</td><td>0.01063677</td><td>117.4934</td><td>0.01050068</td><td> 2.598970044</td><td>-523.3149</td></tr>\n",
       "\t<tr><td> 9</td><td>0.01064165</td><td>117.4928</td><td>0.01048855</td><td> 4.311852144</td><td>-512.6310</td></tr>\n",
       "\t<tr><td>10</td><td>0.01064476</td><td>117.4924</td><td>0.01047465</td><td> 6.129219788</td><td>-501.8425</td></tr>\n",
       "\t<tr><td>11</td><td>0.01064604</td><td>117.4923</td><td>0.01045892</td><td> 8.053850980</td><td>-490.9468</td></tr>\n",
       "\t<tr><td>12</td><td>0.01064612</td><td>117.4923</td><td>0.01044198</td><td>10.049348775</td><td>-479.9802</td></tr>\n",
       "\t<tr><td>13</td><td>0.01066359</td><td>117.4902</td><td>0.01044243</td><td>11.022511185</td><td>-470.0362</td></tr>\n",
       "\t<tr><td>14</td><td>0.01066392</td><td>117.4901</td><td>0.01042575</td><td>13.003079004</td><td>-459.0845</td></tr>\n",
       "\t<tr><td>15</td><td>0.01066397</td><td>117.4901</td><td>0.01040879</td><td>15.000000000</td><td>-448.1164</td></tr>\n",
       "</tbody>\n",
       "</table>\n"
      ],
      "text/latex": [
       "A tibble: 15 × 6\n",
       "\\begin{tabular}{llllll}\n",
       " n\\_input\\_variables & RSQ & RSS & ADJ.R2 & Cp & BIC\\\\\n",
       " <int> & <dbl> & <dbl> & <dbl> & <dbl> & <dbl>\\\\\n",
       "\\hline\n",
       "\t  1 & 0.01021962 & 117.5429 & 0.01020260 & 13.118979767 & -575.5914\\\\\n",
       "\t  2 & 0.01038259 & 117.5236 & 0.01034857 &  5.539408691 & -574.1992\\\\\n",
       "\t  3 & 0.01051090 & 117.5083 & 0.01045986 & -0.002384294 & -570.7704\\\\\n",
       "\t  4 & 0.01055905 & 117.5026 & 0.01049100 & -0.832538653 & -562.6299\\\\\n",
       "\t  5 & 0.01059380 & 117.4985 & 0.01050875 & -0.875414164 & -553.7020\\\\\n",
       "\t  6 & 0.01061535 & 117.4959 & 0.01051328 & -0.141819010 & -543.9976\\\\\n",
       "\t  7 & 0.01062747 & 117.4945 & 0.01050839 &  1.145724397 & -533.7391\\\\\n",
       "\t  8 & 0.01063677 & 117.4934 & 0.01050068 &  2.598970044 & -523.3149\\\\\n",
       "\t  9 & 0.01064165 & 117.4928 & 0.01048855 &  4.311852144 & -512.6310\\\\\n",
       "\t 10 & 0.01064476 & 117.4924 & 0.01047465 &  6.129219788 & -501.8425\\\\\n",
       "\t 11 & 0.01064604 & 117.4923 & 0.01045892 &  8.053850980 & -490.9468\\\\\n",
       "\t 12 & 0.01064612 & 117.4923 & 0.01044198 & 10.049348775 & -479.9802\\\\\n",
       "\t 13 & 0.01066359 & 117.4902 & 0.01044243 & 11.022511185 & -470.0362\\\\\n",
       "\t 14 & 0.01066392 & 117.4901 & 0.01042575 & 13.003079004 & -459.0845\\\\\n",
       "\t 15 & 0.01066397 & 117.4901 & 0.01040879 & 15.000000000 & -448.1164\\\\\n",
       "\\end{tabular}\n"
      ],
      "text/markdown": [
       "\n",
       "A tibble: 15 × 6\n",
       "\n",
       "| n_input_variables &lt;int&gt; | RSQ &lt;dbl&gt; | RSS &lt;dbl&gt; | ADJ.R2 &lt;dbl&gt; | Cp &lt;dbl&gt; | BIC &lt;dbl&gt; |\n",
       "|---|---|---|---|---|---|\n",
       "|  1 | 0.01021962 | 117.5429 | 0.01020260 | 13.118979767 | -575.5914 |\n",
       "|  2 | 0.01038259 | 117.5236 | 0.01034857 |  5.539408691 | -574.1992 |\n",
       "|  3 | 0.01051090 | 117.5083 | 0.01045986 | -0.002384294 | -570.7704 |\n",
       "|  4 | 0.01055905 | 117.5026 | 0.01049100 | -0.832538653 | -562.6299 |\n",
       "|  5 | 0.01059380 | 117.4985 | 0.01050875 | -0.875414164 | -553.7020 |\n",
       "|  6 | 0.01061535 | 117.4959 | 0.01051328 | -0.141819010 | -543.9976 |\n",
       "|  7 | 0.01062747 | 117.4945 | 0.01050839 |  1.145724397 | -533.7391 |\n",
       "|  8 | 0.01063677 | 117.4934 | 0.01050068 |  2.598970044 | -523.3149 |\n",
       "|  9 | 0.01064165 | 117.4928 | 0.01048855 |  4.311852144 | -512.6310 |\n",
       "| 10 | 0.01064476 | 117.4924 | 0.01047465 |  6.129219788 | -501.8425 |\n",
       "| 11 | 0.01064604 | 117.4923 | 0.01045892 |  8.053850980 | -490.9468 |\n",
       "| 12 | 0.01064612 | 117.4923 | 0.01044198 | 10.049348775 | -479.9802 |\n",
       "| 13 | 0.01066359 | 117.4902 | 0.01044243 | 11.022511185 | -470.0362 |\n",
       "| 14 | 0.01066392 | 117.4901 | 0.01042575 | 13.003079004 | -459.0845 |\n",
       "| 15 | 0.01066397 | 117.4901 | 0.01040879 | 15.000000000 | -448.1164 |\n",
       "\n"
      ],
      "text/plain": [
       "   n_input_variables RSQ        RSS      ADJ.R2     Cp           BIC      \n",
       "1   1                0.01021962 117.5429 0.01020260 13.118979767 -575.5914\n",
       "2   2                0.01038259 117.5236 0.01034857  5.539408691 -574.1992\n",
       "3   3                0.01051090 117.5083 0.01045986 -0.002384294 -570.7704\n",
       "4   4                0.01055905 117.5026 0.01049100 -0.832538653 -562.6299\n",
       "5   5                0.01059380 117.4985 0.01050875 -0.875414164 -553.7020\n",
       "6   6                0.01061535 117.4959 0.01051328 -0.141819010 -543.9976\n",
       "7   7                0.01062747 117.4945 0.01050839  1.145724397 -533.7391\n",
       "8   8                0.01063677 117.4934 0.01050068  2.598970044 -523.3149\n",
       "9   9                0.01064165 117.4928 0.01048855  4.311852144 -512.6310\n",
       "10 10                0.01064476 117.4924 0.01047465  6.129219788 -501.8425\n",
       "11 11                0.01064604 117.4923 0.01045892  8.053850980 -490.9468\n",
       "12 12                0.01064612 117.4923 0.01044198 10.049348775 -479.9802\n",
       "13 13                0.01066359 117.4902 0.01044243 11.022511185 -470.0362\n",
       "14 14                0.01066392 117.4901 0.01042575 13.003079004 -459.0845\n",
       "15 15                0.01066397 117.4901 0.01040879 15.000000000 -448.1164"
      ]
     },
     "metadata": {},
     "output_type": "display_data"
    }
   ],
   "source": [
    "#perform forward selection and select the number of variables with the highest adjusted R^2\n",
    "forward_summary_df2 <- tibble(\n",
    "    n_input_variables = 1:15, \n",
    "    RSQ = forward_summary2$rsq,\n",
    "    RSS = forward_summary2$rss,\n",
    "    ADJ.R2 = forward_summary2$adjr2,\n",
    "    Cp = forward_summary2$cp,\n",
    "    BIC = forward_summary2$bic,\n",
    ")\n",
    "forward_summary_df2"
   ]
  },
  {
   "cell_type": "code",
   "execution_count": 246,
   "id": "e8c728de-f7ac-4d11-a7aa-9a2a19285aba",
   "metadata": {},
   "outputs": [
    {
     "data": {
      "text/html": [
       "<style>\n",
       ".list-inline {list-style: none; margin:0; padding: 0}\n",
       ".list-inline>li {display: inline-block}\n",
       ".list-inline>li:not(:last-child)::after {content: \"\\00b7\"; padding: 0 .5ex}\n",
       "</style>\n",
       "<ol class=list-inline><li>'risk_score'</li><li>'subscription'</li><li>'chip'</li><li>'international_trans'</li></ol>\n"
      ],
      "text/latex": [
       "\\begin{enumerate*}\n",
       "\\item 'risk\\_score'\n",
       "\\item 'subscription'\n",
       "\\item 'chip'\n",
       "\\item 'international\\_trans'\n",
       "\\end{enumerate*}\n"
      ],
      "text/markdown": [
       "1. 'risk_score'\n",
       "2. 'subscription'\n",
       "3. 'chip'\n",
       "4. 'international_trans'\n",
       "\n",
       "\n"
      ],
      "text/plain": [
       "[1] \"risk_score\"          \"subscription\"        \"chip\"               \n",
       "[4] \"international_trans\""
      ]
     },
     "metadata": {},
     "output_type": "display_data"
    }
   ],
   "source": [
    "selected_var2 <- names(coef(forward2, 4))[-1] \n",
    "selected_var2"
   ]
  },
  {
   "cell_type": "code",
   "execution_count": 247,
   "id": "d46ed5e0-3ada-4db6-8d65-b505501de23f",
   "metadata": {},
   "outputs": [],
   "source": [
    "training2 <- data_train2 %>% select(all_of(selected_var2),fraud_flagged,card_present, chip_usage)\n",
    "testing2 <- data_test2 %>% select(all_of(selected_var2),fraud_flagged,card_present, chip_usage)"
   ]
  },
  {
   "cell_type": "code",
   "execution_count": 255,
   "id": "234699e2-f71f-41aa-8769-d6c01e40e35d",
   "metadata": {},
   "outputs": [
    {
     "data": {
      "text/plain": [
       "\n",
       "Call:\n",
       "glm(formula = fraud_flagged ~ ., family = binomial, data = training2)\n",
       "\n",
       "Coefficients: (1 not defined because of singularities)\n",
       "                      Estimate Std. Error z value Pr(>|z|)    \n",
       "(Intercept)         -7.8236447  0.2193005 -35.675  < 2e-16 ***\n",
       "risk_score           0.0012236  0.0000722  16.946  < 2e-16 ***\n",
       "subscription         0.6256379  0.2239059   2.794  0.00520 ** \n",
       "chip                 0.2953575  0.5014438   0.589  0.55585    \n",
       "international_trans         NA         NA      NA       NA    \n",
       "card_present         0.5978865  0.3657347   1.635  0.10210    \n",
       "chip_usage          -1.5375154  0.4765620  -3.226  0.00125 ** \n",
       "---\n",
       "Signif. codes:  0 ‘***’ 0.001 ‘**’ 0.01 ‘*’ 0.05 ‘.’ 0.1 ‘ ’ 1\n",
       "\n",
       "(Dispersion parameter for binomial family taken to be 1)\n",
       "\n",
       "    Null deviance: 1711.5  on 58169  degrees of freedom\n",
       "Residual deviance: 1404.0  on 58164  degrees of freedom\n",
       "AIC: 1416\n",
       "\n",
       "Number of Fisher Scoring iterations: 10\n"
      ]
     },
     "metadata": {},
     "output_type": "display_data"
    }
   ],
   "source": [
    "model2 <- glm(\n",
    "        formula = fraud_flagged ~ .,\n",
    "        data = training2,\n",
    "        family = binomial)\n",
    "summary(model2)"
   ]
  },
  {
   "cell_type": "code",
   "execution_count": 259,
   "id": "c2382f87-9d86-4927-8792-8a87e9303be9",
   "metadata": {},
   "outputs": [
    {
     "data": {
      "text/html": [
       "<style>\n",
       ".dl-inline {width: auto; margin:0; padding: 0}\n",
       ".dl-inline>dt, .dl-inline>dd {float: none; width: auto; display: inline-block}\n",
       ".dl-inline>dt::after {content: \":\\0020\"; padding-right: .5ex}\n",
       ".dl-inline>dt:not(:first-of-type) {padding-left: .5ex}\n",
       "</style><dl class=dl-inline><dt>1</dt><dd>0</dd><dt>2</dt><dd>0</dd><dt>3</dt><dd>0</dd><dt>4</dt><dd>0</dd><dt>5</dt><dd>0</dd><dt>6</dt><dd>0</dd></dl>\n"
      ],
      "text/latex": [
       "\\begin{description*}\n",
       "\\item[1] 0\n",
       "\\item[2] 0\n",
       "\\item[3] 0\n",
       "\\item[4] 0\n",
       "\\item[5] 0\n",
       "\\item[6] 0\n",
       "\\end{description*}\n"
      ],
      "text/markdown": [
       "1\n",
       ":   02\n",
       ":   03\n",
       ":   04\n",
       ":   05\n",
       ":   06\n",
       ":   0\n",
       "\n"
      ],
      "text/plain": [
       "1 2 3 4 5 6 \n",
       "0 0 0 0 0 0 "
      ]
     },
     "metadata": {},
     "output_type": "display_data"
    }
   ],
   "source": [
    "# Make predictions using the fitted model\n",
    "predicted2 <- predict(model2, newdata = testing2, type = \"response\")\n",
    "\n",
    "# Classify predictions based on the threshold\n",
    "classified_predictions2 <- ifelse(predicted2 <= 0.0014, 0, 1)\n",
    "head(classified_predictions2)"
   ]
  },
  {
   "cell_type": "code",
   "execution_count": 260,
   "id": "01943a7f-fef1-432a-9690-15de63dbe953",
   "metadata": {},
   "outputs": [
    {
     "name": "stdout",
     "output_type": "stream",
     "text": [
      "[1] 0.7425294\n"
     ]
    }
   ],
   "source": [
    "\n",
    "\n",
    "# Compare classified predictions with true values\n",
    "accuracy2 <- mean(classified_predictions2 == testing2$fraud_flagged)\n",
    "\n",
    "# Print accuracy\n",
    "print(accuracy2)"
   ]
  },
  {
   "cell_type": "code",
   "execution_count": 261,
   "id": "3ce6e380-098a-4eb9-883d-2b2cc2b67b30",
   "metadata": {},
   "outputs": [
    {
     "data": {
      "text/plain": [
       "Confusion Matrix and Statistics\n",
       "\n",
       "          Reference\n",
       "Prediction     0     1\n",
       "         0 18473    15\n",
       "         1  6404    39\n",
       "                                          \n",
       "               Accuracy : 0.7425          \n",
       "                 95% CI : (0.7371, 0.7479)\n",
       "    No Information Rate : 0.9978          \n",
       "    P-Value [Acc > NIR] : 1               \n",
       "                                          \n",
       "                  Kappa : 0.0077          \n",
       "                                          \n",
       " Mcnemar's Test P-Value : <2e-16          \n",
       "                                          \n",
       "            Sensitivity : 0.722222        \n",
       "            Specificity : 0.742573        \n",
       "         Pos Pred Value : 0.006053        \n",
       "         Neg Pred Value : 0.999189        \n",
       "             Prevalence : 0.002166        \n",
       "         Detection Rate : 0.001564        \n",
       "   Detection Prevalence : 0.258433        \n",
       "      Balanced Accuracy : 0.732398        \n",
       "                                          \n",
       "       'Positive' Class : 1               \n",
       "                                          "
      ]
     },
     "metadata": {},
     "output_type": "display_data"
    }
   ],
   "source": [
    "confusion_matrix2 <- \n",
    "    confusionMatrix(\n",
    "    data = as.factor(classified_predictions2),\n",
    "    reference = as.factor(testing2$fraud_flagged),\n",
    "    positive = '1'\n",
    ")\n",
    "confusion_matrix2"
   ]
  },
  {
   "cell_type": "code",
   "execution_count": null,
   "id": "0f6e7570-c5aa-4989-9bd3-efacf970d26b",
   "metadata": {},
   "outputs": [],
   "source": []
  }
 ],
 "metadata": {
  "kernelspec": {
   "display_name": "R",
   "language": "R",
   "name": "ir"
  },
  "language_info": {
   "codemirror_mode": "r",
   "file_extension": ".r",
   "mimetype": "text/x-r-source",
   "name": "R",
   "pygments_lexer": "r",
   "version": "4.3.2"
  }
 },
 "nbformat": 4,
 "nbformat_minor": 5
}
